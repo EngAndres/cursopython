{
 "cells": [
  {
   "cell_type": "markdown",
   "metadata": {},
   "source": [
    "# 15. Algunas librerías de utilidad en Python\n"
   ]
  },
  {
   "cell_type": "markdown",
   "metadata": {},
   "source": [
    "## 1. Numpy"
   ]
  },
  {
   "cell_type": "markdown",
   "metadata": {},
   "source": [
    "Es una de las librerías más conocidas para realizar computación científica en python. Provee una libería de alto rendimiento para la manipulación de arreglos en varias dimensiones. Y ofrece herramientas para trabajar en arreglos.\n"
   ]
  },
  {
   "cell_type": "markdown",
   "metadata": {},
   "source": [
    "### 1.1 Arrays en numpy\n",
    "\n",
    "Un arreglo en numpy es una retícula de valores del mismo tipo indexadas por enteros no negativos. El número de dimensiones ```rank``` y la forma ```shape``` del arreglo es una tupla de enteros que da el tamaño del arreglo para cada dimensión.\n",
    "\n",
    "Se pueden crear arreglos de numpy desde listas de python y acceder a los elementos con el operador subscript ```[]```\n"
   ]
  },
  {
   "cell_type": "code",
   "execution_count": 25,
   "metadata": {},
   "outputs": [
    {
     "name": "stdout",
     "output_type": "stream",
     "text": [
      "<class 'numpy.ndarray'>\n",
      "(4,)\n",
      "1 2 3\n",
      "[-4  2  3  4]\n",
      "(2, 5)\n",
      "1590 2 4\n"
     ]
    }
   ],
   "source": [
    "import numpy as np\n",
    "\n",
    "a = np.array(list(range(1,5)))   # Create a rank 1 array\n",
    "print(type(a))            # Prints \"<class 'numpy.ndarray'>\"\n",
    "print(a.shape)            # Prints \"(4,)\" porque es una dimensión de tamaño 4\n",
    "print(a[0], a[1], a[2])   \n",
    "a[0] = -4                  \n",
    "print(a)                  \n",
    "\n",
    "b = np.array([[1,2,3,5,6],[4,5,6,7,8]])    # Create a rank 2 array\n",
    "print(b.shape)                     \n",
    "b[0,0] = 1590\n",
    "print(b[0, 0], b[0, 1], b[1, 0])   "
   ]
  },
  {
   "cell_type": "markdown",
   "metadata": {},
   "source": [
    "Es posible crear arreglos de diferente tipo de forma muy rápida:"
   ]
  },
  {
   "cell_type": "code",
   "execution_count": 53,
   "metadata": {},
   "outputs": [
    {
     "name": "stdout",
     "output_type": "stream",
     "text": [
      "(2, 3, 4)\n",
      "[[[0. 0. 0. 0.]\n",
      "  [0. 0. 0. 0.]\n",
      "  [0. 0. 0. 0.]]\n",
      "\n",
      " [[0. 0. 0. 0.]\n",
      "  [0. 0. 0. 0.]\n",
      "  [0. 0. 0. 0.]]]\n",
      "---------\n",
      "(2, 3)\n",
      "[[1. 1. 1.]\n",
      " [1. 1. 1.]]\n",
      "---------\n",
      "(3,)\n",
      "[7 7 7]\n",
      "---------\n",
      "(3, 3)\n",
      "[[1. 0. 0.]\n",
      " [0. 1. 0.]\n",
      " [0. 0. 1.]]\n",
      "---------\n",
      "(2, 3)\n",
      "[[0.53531825 0.33951771 0.60249827]\n",
      " [0.57445358 0.61974161 0.74373077]]\n"
     ]
    }
   ],
   "source": [
    "import numpy as np\n",
    "\n",
    "a = np.zeros((2,3,4))   # Crea un arreglo de ceros de 3 dimensiones \n",
    "print(a.shape)        \n",
    "print(a)  \n",
    "print('---------')\n",
    "\n",
    "b = np.ones((2,3))    # Crea un arreglo de 1\n",
    "print(b.shape)\n",
    "print(b)\n",
    "print('---------')\n",
    "\n",
    "c = np.full((3), 7)  # Crea un arreglo de rango 1 con contenido 7\n",
    "print(c.shape)\n",
    "print(c)\n",
    "print('---------')\n",
    "        \n",
    "d = np.eye(3)         # Crea un arreglo identidad de 3 x 3\n",
    "print(d.shape)\n",
    "print(d)              \n",
    "print('---------')\n",
    "\n",
    "e = np.random.random((2,3))  # Crea un arreglo de rango 3 con valores al azar\n",
    "print(e.shape)\n",
    "print(e)                    \n",
    "                            "
   ]
  },
  {
   "cell_type": "markdown",
   "metadata": {},
   "source": [
    "El operador subscript funciona en numpy"
   ]
  },
  {
   "cell_type": "code",
   "execution_count": 61,
   "metadata": {},
   "outputs": [
    {
     "name": "stdout",
     "output_type": "stream",
     "text": [
      "[[ 1  2  3  4]\n",
      " [ 5  6  7  8]\n",
      " [ 9 10 11 12]]\n",
      "[[2 3]\n",
      " [6 7]]\n",
      "------------------------\n",
      "[[-11   3]\n",
      " [  6   7]]\n",
      "[[  1 -11   3   4]\n",
      " [  5   6   7   8]\n",
      " [  9  10  11  12]]\n",
      "-11\n"
     ]
    }
   ],
   "source": [
    "import numpy as np\n",
    "\n",
    "# Create the following rank 2 array with shape (3, 4)\n",
    "a = np.array([[1,2,3,4], [5,6,7,8], [9,10,11,12]])\n",
    "print(a)\n",
    "b = a[:2, 1:3]\n",
    "print(b)\n",
    "\n",
    "print('------------------------')\n",
    "\n",
    "# modificar una porción del array b cambia el contenido de a\n",
    "b[0, 0] = -11     # b[0, 0] is the same piece of data as a[0, 1]\n",
    "print(b)\n",
    "print(a)\n",
    "print(a[0, 1])   # Prints \"-11\"\n"
   ]
  },
  {
   "cell_type": "markdown",
   "metadata": {},
   "source": [
    "Se puede mezclar indexado entero con indexado por partes. Esto retornará un arreglo de menor dimensionalidad que el arreglo original."
   ]
  },
  {
   "cell_type": "code",
   "execution_count": 66,
   "metadata": {},
   "outputs": [
    {
     "name": "stdout",
     "output_type": "stream",
     "text": [
      "[[ 1  2  3  4]\n",
      " [ 5  6  7  8]\n",
      " [ 9 10 11 12]]\n",
      "(3, 4)\n",
      "-----------------\n",
      "[5 6 7 8] (4,)\n",
      "[[5 6 7 8]] (1, 4)\n",
      "[ 2  6 10] (3,)\n",
      "[[ 2]\n",
      " [ 6]\n",
      " [10]] (3, 1)\n"
     ]
    }
   ],
   "source": [
    "import numpy as np\n",
    "\n",
    "a = np.array([[1,2,3,4], [5,6,7,8], [9,10,11,12]])\n",
    "\n",
    "print(a)\n",
    "print(a.shape)\n",
    "print('-----------------')\n",
    "# Two ways of accessing the data in the middle row of the array.\n",
    "# Mixing integer indexing with slices yields an array of lower rank,\n",
    "# while using only slices yields an array of the same rank as the\n",
    "# original array:\n",
    "row_r1 = a[1, :]    # Rank 1 view of the second row of a\n",
    "row_r2 = a[1:2, :]  # Rank 2 view of the second row of a\n",
    "print(row_r1, row_r1.shape)  # Prints \"[5 6 7 8] (4,)\"\n",
    "print(row_r2, row_r2.shape)  # Prints \"[[5 6 7 8]] (1, 4)\"\n",
    "\n",
    "# We can make the same distinction when accessing columns of an array:\n",
    "col_r1 = a[:, 1]\n",
    "col_r2 = a[:, 1:2]\n",
    "print(col_r1, col_r1.shape)  # Prints \"[ 2  6 10] (3,)\"\n",
    "print(col_r2, col_r2.shape)  # Prints \"[[ 2]\n",
    "                             #          [ 6]\n",
    "                             #          [10]] (3, 1)\""
   ]
  },
  {
   "cell_type": "markdown",
   "metadata": {},
   "source": [
    "Indexamiento entero de arreglos: Permite construir arreglos arbitrarios utilizando datos de otro arreglo."
   ]
  },
  {
   "cell_type": "code",
   "execution_count": 79,
   "metadata": {},
   "outputs": [
    {
     "name": "stdout",
     "output_type": "stream",
     "text": [
      "[1 4 5]\n",
      "[1 4 5]\n",
      "[2 2]\n",
      "[2 2]\n"
     ]
    }
   ],
   "source": [
    "import numpy as np\n",
    "\n",
    "a = np.array([[1,2], [3, 4], [5, 6]])\n",
    "\n",
    "print(a[[0, 1, 2], [0, 1, 0]])  \n",
    "print(np.array([a[0, 0], a[1, 1], a[2, 0]]))\n",
    "\n",
    "\n",
    "print(a[[0, 0], [1, 1]])  \n",
    "print(np.array([a[0, 1], a[0, 1]])) "
   ]
  },
  {
   "cell_type": "markdown",
   "metadata": {},
   "source": [
    "Indexamiento booleano: Permite selecionar elementos que cumplan con una cierta condición."
   ]
  },
  {
   "cell_type": "code",
   "execution_count": 71,
   "metadata": {},
   "outputs": [
    {
     "name": "stdout",
     "output_type": "stream",
     "text": [
      "[[False False]\n",
      " [ True  True]\n",
      " [ True  True]]\n",
      "[3 4 5 6]\n",
      "[3 4 5 6]\n"
     ]
    }
   ],
   "source": [
    "import numpy as np\n",
    "\n",
    "a = np.array([[1,2], [3, 4], [5, 6]])\n",
    "\n",
    "bool_idx = (a > 2)   \n",
    "print(bool_idx)      \n",
    "\n",
    "print(a[bool_idx])  #array de elementos mayores a 2\n",
    "\n",
    "#una expresión equivalente\n",
    "print(a[a > 2])     "
   ]
  },
  {
   "cell_type": "markdown",
   "metadata": {},
   "source": [
    "Numpy como python determina el tipo de dato basado en el valor. Sin embargo dicho tipo también puede especificarse:"
   ]
  },
  {
   "cell_type": "code",
   "execution_count": 76,
   "metadata": {},
   "outputs": [
    {
     "name": "stdout",
     "output_type": "stream",
     "text": [
      "int32\n",
      "float64\n",
      "int64\n"
     ]
    }
   ],
   "source": [
    "import numpy as np\n",
    "\n",
    "x = np.array([5, -4])   \n",
    "print(x.dtype)         \n",
    "\n",
    "x = np.array([1.0, 2.0])   \n",
    "print(x.dtype)          \n",
    "\n",
    "x = np.array([5, -4], dtype=np.int64)   \n",
    "print(x.dtype)                         "
   ]
  },
  {
   "cell_type": "markdown",
   "metadata": {},
   "source": [
    "## 1.2. Operaciones elementwise\n"
   ]
  },
  {
   "cell_type": "markdown",
   "metadata": {},
   "source": [
    "Son operaciones elemento a elemento:"
   ]
  },
  {
   "cell_type": "code",
   "execution_count": 87,
   "metadata": {},
   "outputs": [
    {
     "name": "stdout",
     "output_type": "stream",
     "text": [
      "Suma:\n",
      "[[ 6.  8.  4.]\n",
      " [10. 12.  0.]]\n",
      "-----\n",
      "[[ 6.  8.  4.]\n",
      " [10. 12.  0.]]\n",
      "Resta:\n",
      "[[-4. -4.  6.]\n",
      " [-4. -4. 12.]]\n",
      "-----\n",
      "[[-4. -4.  6.]\n",
      " [-4. -4. 12.]]\n",
      "Multiplicación:\n",
      "[[  5.  12.  -5.]\n",
      " [ 21.  32. -36.]]\n",
      "-----\n",
      "[[  5.  12.  -5.]\n",
      " [ 21.  32. -36.]]\n",
      "División:\n",
      "[[ 0.2         0.33333333 -5.        ]\n",
      " [ 0.42857143  0.5        -1.        ]]\n",
      "-----\n",
      "[[ 0.2         0.33333333 -5.        ]\n",
      " [ 0.42857143  0.5        -1.        ]]\n",
      "raiz cuadrada:\n",
      "[[1.         1.41421356 2.23606798]\n",
      " [1.73205081 2.         2.44948974]]\n"
     ]
    }
   ],
   "source": [
    "import numpy as np\n",
    "\n",
    "x = np.array([[1,2,5],[3,4,6]], dtype=np.float64)\n",
    "y = np.array([[5,6,-1],[7,8,-6]], dtype=np.float64)\n",
    "\n",
    "print('Suma:')\n",
    "print(x + y)\n",
    "print('-----')\n",
    "print(np.add(x, y))\n",
    "\n",
    "print('Resta:')\n",
    "print(x - y)\n",
    "print('-----')\n",
    "print(np.subtract(x, y))\n",
    "\n",
    "print('Multiplicación:')\n",
    "print(x * y)\n",
    "print('-----')\n",
    "print(np.multiply(x, y))\n",
    "\n",
    "print(\"División:\")\n",
    "print(x / y)\n",
    "print('-----')\n",
    "print(np.divide(x, y))\n",
    "\n",
    "print(\"raiz cuadrada:\")\n",
    "print(np.sqrt(x))"
   ]
  },
  {
   "cell_type": "markdown",
   "metadata": {},
   "source": [
    "Otras operaciones de interés:"
   ]
  },
  {
   "cell_type": "code",
   "execution_count": 112,
   "metadata": {},
   "outputs": [
    {
     "name": "stdout",
     "output_type": "stream",
     "text": [
      "(2, 3)\n",
      "(3,)\n",
      "x:\n",
      " [[1 2 5]\n",
      " [3 4 6]]\n",
      "Transpose:\n",
      " [[1 3]\n",
      " [2 4]\n",
      " [5 6]]\n",
      "Product [40 72]\n"
     ]
    }
   ],
   "source": [
    "x = np.array([[1,2,5],[3,4,6]])\n",
    "y = np.array([8,6,4])\n",
    "\n",
    "print(x.shape)\n",
    "print(y.shape)\n",
    "\n",
    "print('x:\\n', x)\n",
    "print('Transpose:\\n', x.T)\n",
    "\n",
    "p = x @ y.T\n",
    "print('Product', p)\n"
   ]
  },
  {
   "cell_type": "markdown",
   "metadata": {},
   "source": [
    "## 1.3 np.linspace"
   ]
  },
  {
   "cell_type": "markdown",
   "metadata": {},
   "source": [
    "Retorna números espaciados con cierto intervalo:\n",
    "\n",
    "```numpy.linspace(start, stop, num = 50, endpoint = True, retstep = False, dtype = None) \n",
    "   ``` "
   ]
  },
  {
   "cell_type": "code",
   "execution_count": 116,
   "metadata": {},
   "outputs": [
    {
     "data": {
      "text/plain": [
       "array([2.        , 2.02040816, 2.04081633, 2.06122449, 2.08163265,\n",
       "       2.10204082, 2.12244898, 2.14285714, 2.16326531, 2.18367347,\n",
       "       2.20408163, 2.2244898 , 2.24489796, 2.26530612, 2.28571429,\n",
       "       2.30612245, 2.32653061, 2.34693878, 2.36734694, 2.3877551 ,\n",
       "       2.40816327, 2.42857143, 2.44897959, 2.46938776, 2.48979592,\n",
       "       2.51020408, 2.53061224, 2.55102041, 2.57142857, 2.59183673,\n",
       "       2.6122449 , 2.63265306, 2.65306122, 2.67346939, 2.69387755,\n",
       "       2.71428571, 2.73469388, 2.75510204, 2.7755102 , 2.79591837,\n",
       "       2.81632653, 2.83673469, 2.85714286, 2.87755102, 2.89795918,\n",
       "       2.91836735, 2.93877551, 2.95918367, 2.97959184, 3.        ])"
      ]
     },
     "execution_count": 116,
     "metadata": {},
     "output_type": "execute_result"
    }
   ],
   "source": [
    "import numpy as np\n",
    "\n",
    "np.linspace(2, 3, num = 50, endpoint = True, retstep = False, dtype = None)"
   ]
  },
  {
   "cell_type": "markdown",
   "metadata": {},
   "source": [
    "## 2. Matplotlib"
   ]
  },
  {
   "cell_type": "markdown",
   "metadata": {},
   "source": [
    "Matplotlib es una librería para crear visualizaciones estáticas o animadas en python.\n",
    "\n",
    "Es posible graficar en un área con uno o más ejes (en términos de coordenadas x-y, theta-r, coordenadas polares, x-y-z, etc. \n",
    "\n",
    "La forma más simple de crear una figura con ejes es usar con pyplot."
   ]
  },
  {
   "cell_type": "markdown",
   "metadata": {},
   "source": [
    "Componentes de una figura: https://matplotlib.org/tutorials/introductory/usage.html#sphx-glr-tutorials-introductory-usage-py"
   ]
  },
  {
   "cell_type": "code",
   "execution_count": 5,
   "metadata": {},
   "outputs": [
    {
     "data": {
      "text/plain": [
       "[<matplotlib.lines.Line2D at 0x26ef0532278>]"
      ]
     },
     "execution_count": 5,
     "metadata": {},
     "output_type": "execute_result"
    },
    {
     "data": {
      "image/png": "[encoded data removed]",
      "text/plain": [
       "<Figure size 432x288 with 1 Axes>"
      ]
     },
     "metadata": {
      "needs_background": "light"
     },
     "output_type": "display_data"
    }
   ],
   "source": [
    "import matplotlib.pyplot as plt\n",
    "\n",
    "plt.plot([1, 2, 3, 4], [1, 4, 2, 3])  # Matplotlib plot."
   ]
  },
  {
   "cell_type": "code",
   "execution_count": 144,
   "metadata": {},
   "outputs": [
    {
     "data": {
      "text/plain": [
       "<matplotlib.legend.Legend at 0x26ef20e5a20>"
      ]
     },
     "execution_count": 144,
     "metadata": {},
     "output_type": "execute_result"
    },
    {
     "data": {
      "image/png": "[encoded data removed]",
      "text/plain": [
       "<Figure size 432x288 with 1 Axes>"
      ]
     },
     "metadata": {
      "needs_background": "light"
     },
     "output_type": "display_data"
    }
   ],
   "source": [
    "import numpy as np\n",
    "\n",
    "x = np.linspace(0, 2, 100)\n",
    "#print(x)\n",
    "# Note that even in the OO-style, we use `.pyplot.figure` to create the figure.\n",
    "fig, ax = plt.subplots()  # Create a figure and an axes.\n",
    "ax.plot(x, x, label='linear')  # Plot some data on the axes.\n",
    "ax.plot(x, x**2, label='quadratic')  # Plot more data on the axes...\n",
    "ax.plot(x, x**3, label='cubic')  # ... and some more.\n",
    "ax.set_xlabel('x label')  # Add an x-label to the axes.\n",
    "ax.set_ylabel('y label')  # Add a y-label to the axes.\n",
    "ax.set_title(\"Simple Plot\")  # Add a title to the axes.\n",
    "ax.legend()  # Add a legend."
   ]
  },
  {
   "cell_type": "markdown",
   "metadata": {},
   "source": [
    "Se pueden tener variables categóricas:"
   ]
  },
  {
   "cell_type": "code",
   "execution_count": 197,
   "metadata": {},
   "outputs": [
    {
     "data": {
      "image/png": "[encoded data removed]",
      "text/plain": [
       "<Figure size 648x216 with 3 Axes>"
      ]
     },
     "metadata": {
      "needs_background": "light"
     },
     "output_type": "display_data"
    }
   ],
   "source": [
    "names = ['group_a', 'group_b', 'group_c']\n",
    "values = [3.4, 50.3, 23]\n",
    "\n",
    "plt.figure(figsize=(9, 3))\n",
    "\n",
    "plt.subplot(131)\n",
    "plt.bar(names, values)\n",
    "plt.subplot(132)\n",
    "plt.scatter(names, values)\n",
    "plt.subplot(133)\n",
    "plt.plot(names, values)\n",
    "plt.suptitle('Categorical Plotting')\n",
    "plt.show()"
   ]
  },
  {
   "cell_type": "markdown",
   "metadata": {},
   "source": [
    "Se pueden generar gráficos muy interesantes:"
   ]
  },
  {
   "cell_type": "code",
   "execution_count": 198,
   "metadata": {},
   "outputs": [
    {
     "data": {
      "image/png": "[encoded data removed]",
      "text/plain": [
       "<Figure size 432x288 with 6 Axes>"
      ]
     },
     "metadata": {
      "needs_background": "light"
     },
     "output_type": "display_data"
    }
   ],
   "source": [
    "import numpy as np\n",
    "import matplotlib.pyplot as plt\n",
    "\n",
    "# Fixing random state for reproducibility\n",
    "np.random.seed(19680801)\n",
    "\n",
    "x = np.random.rand(10)\n",
    "y = np.random.rand(10)\n",
    "z = np.sqrt(x**2 + y**2)\n",
    "\n",
    "plt.subplot(321)\n",
    "plt.scatter(x, y, s=80, c=z, marker=\">\")\n",
    "\n",
    "plt.subplot(322)\n",
    "plt.scatter(x, y, s=80, c=z, marker=(6, 2))\n",
    "\n",
    "verts = np.array([[-1, -1], [1, -1], [1, 1], [-1, -1]])\n",
    "plt.subplot(323)\n",
    "plt.scatter(x, y, s=80, c=z, marker=verts)\n",
    "\n",
    "plt.subplot(324)\n",
    "plt.scatter(x, y, s=80, c=z, marker=(5, 1))\n",
    "\n",
    "plt.subplot(325)\n",
    "plt.scatter(x, y, s=80, c=z, marker='+')\n",
    "\n",
    "plt.subplot(326)\n",
    "plt.scatter(x, y, s=80, c=z, marker=(5, 2))\n",
    "\n",
    "plt.show()"
   ]
  },
  {
   "cell_type": "markdown",
   "metadata": {},
   "source": [
    "## 3. Pandas\n",
    "\n",
    "Permite manipular datos de alto nivel. Es una librería fácil de usar para análisis y manipulación de datos. Está construida sobre Numpy.\n",
    "\n"
   ]
  },
  {
   "cell_type": "code",
   "execution_count": 166,
   "metadata": {},
   "outputs": [
    {
     "name": "stdout",
     "output_type": "stream",
     "text": [
      "        country    capital    area  population\n",
      "0        Brazil   Brasilia   8.516      200.40\n",
      "1        Russia     Moscow  17.100      143.50\n",
      "2         India  New Dehli   3.286     1252.00\n",
      "3         China    Beijing   9.597     1357.00\n",
      "4  South Africa   Pretoria   1.221       52.98\n",
      "5      Colombia     Bogotá   1.142       49.65\n"
     ]
    }
   ],
   "source": [
    "dict = {\"country\": [\"Brazil\", \"Russia\", \"India\", \"China\", \"South Africa\", \"Colombia\"],\n",
    "       \"capital\": [\"Brasilia\", \"Moscow\", \"New Dehli\", \"Beijing\", \"Pretoria\", \"Bogotá\"],\n",
    "       \"area\": [8.516, 17.10, 3.286, 9.597, 1.221, 1.142],\n",
    "       \"population\": [200.4, 143.5, 1252, 1357, 52.98, 49.65] }\n",
    "\n",
    "import pandas as pd\n",
    "\n",
    "brics = pd.DataFrame(dict)\n",
    "print(brics)"
   ]
  },
  {
   "cell_type": "code",
   "execution_count": 227,
   "metadata": {},
   "outputs": [
    {
     "name": "stdout",
     "output_type": "stream",
     "text": [
      "[('United States', 462), ('United Kingdom', 100), ('Canada', 76)]\n",
      "[('Visa', 521), ('Mastercard', 277), ('Amex', 110)]\n"
     ]
    }
   ],
   "source": [
    "# Import pandas as pd\n",
    "import pandas as pd\n",
    "from collections import Counter\n",
    "\n",
    "ventasdf = pd.read_csv('files/SalesJan2009.csv')\n",
    "\n",
    "#print(ventas)\n",
    "cp = Counter(ventasdf['Country'])\n",
    "print(cp.most_common(3))\n",
    "\n",
    "cv = Counter(ventasdf['Payment_Type'])\n",
    "print(cv.most_common(3))\n"
   ]
  },
  {
   "cell_type": "code",
   "execution_count": 223,
   "metadata": {},
   "outputs": [
    {
     "data": {
      "image/png": "[encoded data removed]",
      "text/plain": [
       "<Figure size 1080x216 with 2 Axes>"
      ]
     },
     "metadata": {
      "needs_background": "light"
     },
     "output_type": "display_data"
    }
   ],
   "source": [
    "paises = [elem[0] for elem in cp.most_common(4)]\n",
    "ventas = [elem[1] for elem in cp.most_common(4)]\n",
    "\n",
    "mpago = [elem[0] for elem in cv.most_common(4)]\n",
    "cantidad = [elem[1] for elem in cv.most_common(4)]\n",
    "\n",
    "plt.figure(figsize=(15, 3))\n",
    "\n",
    "plt.subplot(121)\n",
    "plt.bar(paises, ventas, color=['r', 'g', 'b', 'y'])\n",
    "plt.title('Ventas por País')\n",
    "\n",
    "plt.subplot(122)\n",
    "plt.bar(mpago, cantidad)\n",
    "plt.title('Ventas por Medio de Pago')\n",
    "\n",
    "plt.suptitle('Reporte de Ventas')\n",
    "plt.show()"
   ]
  },
  {
   "cell_type": "markdown",
   "metadata": {},
   "source": [
    "## 4. NLTK, scikit-learn\n",
    "\n",
    "NLTK es una plataforma para realizar programas que trabajen con lenguaje humano.\n",
    "\n",
    "Scikit learn es una plataforma con herramientas para análisis de datos, reutilizable en varios contextos y basada en NumPy, SciPy y matplotlib.\n",
    "\n",
    "A continuación un ejemplo de chatbot basado en:  https://medium.com/analytics-vidhya/building-a-simple-chatbot-in-python-using-nltk-7c8c8215ac6e, https://www.geeksforgeeks.org/removing-stop-words-nltk-python/ y http://josearcosaneas.github.io/python/r/procesamiento/lenguaje/2017/01/02/procesamiento-lenguaje-natural-0.html "
   ]
  },
  {
   "cell_type": "markdown",
   "metadata": {},
   "source": [
    "## 4.1 Carga de archivos"
   ]
  },
  {
   "cell_type": "code",
   "execution_count": 1,
   "metadata": {},
   "outputs": [],
   "source": [
    "import nltk\n",
    "import numpy as np\n",
    "import random\n",
    "import string #used to process python strings"
   ]
  },
  {
   "cell_type": "code",
   "execution_count": 2,
   "metadata": {},
   "outputs": [
    {
     "name": "stderr",
     "output_type": "stream",
     "text": [
      "[nltk_data] Downloading package punkt to\n",
      "[nltk_data]     C:\\Users\\Arles\\AppData\\Roaming\\nltk_data...\n",
      "[nltk_data]   Package punkt is already up-to-date!\n",
      "[nltk_data] Downloading package wordnet to\n",
      "[nltk_data]     C:\\Users\\Arles\\AppData\\Roaming\\nltk_data...\n",
      "[nltk_data]   Package wordnet is already up-to-date!\n"
     ]
    }
   ],
   "source": [
    "with open('files/python_es.txt','r', encoding='utf-8') as f:\n",
    "    raw=f.read()\n",
    "    raw=raw.lower() # converts to lowercase\n",
    "\n",
    "nltk.download('punkt') # first-time use only\n",
    "nltk.download('wordnet') # first-time use only\n",
    "\n",
    "sent_tokens = nltk.sent_tokenize(raw)# converts to list of sentences \n",
    "word_tokens = nltk.word_tokenize(raw)# converts to list of words"
   ]
  },
  {
   "cell_type": "markdown",
   "metadata": {},
   "source": [
    "Ejemplo de sentencias:"
   ]
  },
  {
   "cell_type": "code",
   "execution_count": 3,
   "metadata": {},
   "outputs": [
    {
     "data": {
      "text/plain": [
       "['python es un lenguaje de programación interpretado cuya filosofía hace hincapié en la legibilidad de su código.2\\u200b se trata de un lenguaje de programación multiparadigma, ya que soporta orientación a objetos, programación imperativa y, en menor medida, programación funcional.',\n",
       " 'es un lenguaje interpretado, dinámico y multiplataforma.']"
      ]
     },
     "execution_count": 3,
     "metadata": {},
     "output_type": "execute_result"
    }
   ],
   "source": [
    "sent_tokens[:2]"
   ]
  },
  {
   "cell_type": "markdown",
   "metadata": {},
   "source": [
    "Ejemplos de las palabras:"
   ]
  },
  {
   "cell_type": "code",
   "execution_count": 4,
   "metadata": {},
   "outputs": [
    {
     "data": {
      "text/plain": [
       "['programación', 'interpretado', 'cuya', 'filosofía', 'hace']"
      ]
     },
     "execution_count": 4,
     "metadata": {},
     "output_type": "execute_result"
    }
   ],
   "source": [
    "word_tokens[5:10]"
   ]
  },
  {
   "cell_type": "markdown",
   "metadata": {},
   "source": [
    "## 4.2 Preprocesamiento"
   ]
  },
  {
   "cell_type": "code",
   "execution_count": 5,
   "metadata": {},
   "outputs": [
    {
     "name": "stderr",
     "output_type": "stream",
     "text": [
      "[nltk_data] Downloading package stopwords to\n",
      "[nltk_data]     C:\\Users\\Arles\\AppData\\Roaming\\nltk_data...\n",
      "[nltk_data]   Package stopwords is already up-to-date!\n"
     ]
    }
   ],
   "source": [
    "import nltk\n",
    "\n",
    "nltk.download('stopwords')\n",
    "from nltk import wordpunct_tokenize\n",
    "from nltk.corpus import stopwords\n",
    "#import nltk\n",
    "#from nltk.stem.porter import PorterStemmer\n",
    "#from nltk.stem.Snowball import SnowballStemmer\n",
    "\n",
    "stopw = [w.encode('utf-8') for w in stopwords.words('spanish')]\n",
    "punc_lit = [u'.', u'[', ']', u',', u';', u'', u')', u'),', u' ', u'(']\n",
    "stopw.extend(punc_lit)"
   ]
  },
  {
   "cell_type": "code",
   "execution_count": 6,
   "metadata": {},
   "outputs": [],
   "source": [
    "from nltk.stem import SnowballStemmer\n",
    "\n",
    "#print (SnowballStemmer.languages)\n",
    " \n",
    "stemmer_spanish = SnowballStemmer('spanish')\n",
    "\n",
    "def LemTokens(tokens):\n",
    "    return [stemmer_spanish.stem(token) for token in tokens if token not in stopw]\n",
    "\n",
    "remove_punct_dict = dict((ord(punct), None) for punct in string.punctuation)\n",
    "\n",
    "def LemNormalize(text):\n",
    "    return LemTokens(nltk.word_tokenize(text.lower().translate(remove_punct_dict)))"
   ]
  },
  {
   "cell_type": "markdown",
   "metadata": {},
   "source": [
    "## 4.3 Emparejamiento de palabras clave:\n",
    "\n",
    "Se definen saludos y despedidas para el bot. ELIZA (un chatbot popular utiliza un emparejamiento sencillo al azar para saludar)."
   ]
  },
  {
   "cell_type": "code",
   "execution_count": 7,
   "metadata": {},
   "outputs": [],
   "source": [
    "GREETING_INPUTS = (\"hola\", \"que más!\", \"cordial saludo\", \"hey!\")\n",
    "\n",
    "GREETING_RESPONSES = [\"hola\", \"hey\", \"hola que hace!\", \"buenas las tenga\", \"a la orden?\", \"Es un gusto, pregunte pues!\"]\n",
    "\n",
    "def greeting(sentence):\n",
    "    for word in sentence.split():\n",
    "        if word.lower() in GREETING_INPUTS:\n",
    "            return random.choice(GREETING_RESPONSES)"
   ]
  },
  {
   "cell_type": "markdown",
   "metadata": {},
   "source": [
    "A continuación ya se muestra el motor del chatbot que está basado en el conteo de palabras para retornar la frase más parecida a la que el usuario digita:"
   ]
  },
  {
   "cell_type": "code",
   "execution_count": 15,
   "metadata": {},
   "outputs": [
    {
     "name": "stdout",
     "output_type": "stream",
     "text": [
      "ROBO: Soy un chatbot. Espero resolver todas sus preguntas sobre python, para salir escriba chao\n",
      "You:Que es django?\n",
      "\u001b[34mROBO: \u001b[0m\u001b[34mel código que siga los principios de python se dice que es \"pythonico\".\u001b[0m\n",
      "You:django?\n",
      "\u001b[34mROBO: \u001b[0m\u001b[34mQue pena no le entiendo nada... por favor pregunte otra cosa\u001b[0m\n",
      "You:python tiene frameworks?\n",
      "\u001b[34mROBO: \u001b[0m\u001b[34mpython 2, es decir python 2.7.x, fue oficialmente descontinuado el 1 de enero de 2020 (primero planeado para 2015) después de lo cual no se publicarán parches de seguridad y otras mejoras para él.19​20​ con el final del ciclo de vida de python 2, solo tienen soporte la rama python 3.5.x21​ y posteriores.\u001b[0m\n",
      "You:python es software libre?\n",
      "\u001b[34mROBO: \u001b[0m\u001b[34mcnri y fsf se relacionaron para cambiar la licencia de software libre de python para hacerla compatible con gpl.\u001b[0m\n",
      "You:como se llama el creador de python?\n",
      "\u001b[34mROBO: \u001b[0m\u001b[34mguido van rossum, creador de python, en la convención oscon 2006\n",
      "python fue creado a finales de los ochenta4​ por guido van rossum en el centro para las matemáticas y la informática (cwi, centrum wiskunde & informatica), en los países bajos, como un sucesor del lenguaje de programación abc, capaz de manejar excepciones e interactuar con el sistema operativo amoeba.5​\n",
      "\n",
      "el nombre del lenguaje proviene de la afición de su creador por los humoristas británicos monty python.6​\n",
      "\n",
      "van rossum es el principal autor de python, y su continuo rol central en decidir la dirección de python es reconocido, refiriéndose a él como benevolente dictador vitalicio (en inglés: benevolent dictator for life, bdfl); sin embargo el 12 de julio de 2018 declinó de dicha situación de honor sin dejar un sucesor o sucesora y con una declaración altisonante:7​\n",
      "\n",
      "entonces, ¿qué van a hacer todos ustedes?\u001b[0m\n",
      "You:chau\n",
      "\u001b[34mROBO: \u001b[0m\u001b[34mQue pena no le entiendo nada... por favor pregunte otra cosa\u001b[0m\n",
      "You:chao\n",
      "\u001b[34mROBO: Nos vemos!\u001b[0m\n"
     ]
    }
   ],
   "source": [
    "from sklearn.feature_extraction.text import TfidfVectorizer\n",
    "from sklearn.metrics.pairwise import cosine_similarity\n",
    "\n",
    "from termcolor import colored\n",
    "\n",
    "def response(user_response):\n",
    "    robo_response=''\n",
    "    sent_tokens.append(user_response)    \n",
    "    TfidfVec = TfidfVectorizer(tokenizer=LemNormalize) #, stop_words='english')\n",
    "    tfidf = TfidfVec.fit_transform(sent_tokens)\n",
    "    vals = cosine_similarity(tfidf[-1], tfidf)\n",
    "    idx=vals.argsort()[0][-2]\n",
    "    flat = vals.flatten()\n",
    "    flat.sort()\n",
    "    req_tfidf = flat[-2]    \n",
    "    if(req_tfidf==0):\n",
    "        robo_response=robo_response+\"Que pena no le entiendo nada... por favor pregunte otra cosa\"\n",
    "        return robo_response\n",
    "    else:\n",
    "        robo_response = robo_response+sent_tokens[idx]\n",
    "        return robo_response\n",
    "\n",
    "def main():\n",
    "    flag=True\n",
    "    print(\"ROBO: Soy un chatbot. Espero resolver todas sus preguntas sobre python, para salir escriba chao\")\n",
    "    while(flag==True):\n",
    "        user_response = input(\"You:\")\n",
    "        user_response=user_response.lower()\n",
    "        if(user_response!='chao'):\n",
    "            if(user_response=='gracias' or user_response=='Gracias!' ):\n",
    "                flag=False\n",
    "                print(\"ROBO: De nada..\")\n",
    "            else:\n",
    "                if(greeting(user_response)!=None):\n",
    "                    print(\"ROBO: \"+greeting(user_response))\n",
    "                else:\n",
    "                    print(colored(\"ROBO: \", 'blue'),end=\"\")\n",
    "                    print(colored(response(user_response), 'blue'))\n",
    "                    sent_tokens.remove(user_response)\n",
    "        else:\n",
    "            flag=False\n",
    "            print(colored(\"ROBO: Nos vemos!\", 'blue'))\n",
    "\n",
    "main()"
   ]
  },
  {
   "cell_type": "markdown",
   "metadata": {},
   "source": [
    "# Referencias\n",
    "- https://cs231n.github.io/python-numpy-tutorial/\n",
    "- https://matplotlib.org/Matplotlib.pdf\n",
    "- https://pandas.pydata.org/\n",
    "- https://www.learnpython.org/es/Pandas%20Basics\n",
    "- https://medium.com/analytics-vidhya/building-a-simple-chatbot-in-python-using-nltk-7c8c8215ac6e\n",
    "- https://www.geeksforgeeks.org/removing-stop-words-nltk-python/\n",
    "- http://josearcosaneas.github.io/python/r/procesamiento/lenguaje/2017/01/02/procesamiento-lenguaje-natural-0.html"
   ]
  },
  {
   "cell_type": "code",
   "execution_count": null,
   "metadata": {},
   "outputs": [],
   "source": []
  }
 ],
 "metadata": {
  "kernelspec": {
   "display_name": "Python 3",
   "language": "python",
   "name": "python3"
  },
  "language_info": {
   "codemirror_mode": {
    "name": "ipython",
    "version": 3
   },
   "file_extension": ".py",
   "mimetype": "text/x-python",
   "name": "python",
   "nbconvert_exporter": "python",
   "pygments_lexer": "ipython3",
   "version": "3.7.3"
  }
 },
 "nbformat": 4,
 "nbformat_minor": 2
}
